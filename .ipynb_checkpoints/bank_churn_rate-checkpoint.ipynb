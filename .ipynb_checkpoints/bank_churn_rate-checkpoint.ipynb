{
 "cells": [
  {
   "cell_type": "code",
   "execution_count": 1,
   "id": "cc7777ee",
   "metadata": {},
   "outputs": [],
   "source": [
    "import pandas as pd\n",
    "import matplotlib.pyplot as plt\n",
    "%matplotlib inline"
   ]
  },
  {
   "cell_type": "code",
   "execution_count": 2,
   "id": "048ee510",
   "metadata": {},
   "outputs": [],
   "source": [
    "df = pd.read_csv(\"Churn_Modelling.csv\")"
   ]
  },
  {
   "cell_type": "code",
   "execution_count": 3,
   "id": "2826ea0e",
   "metadata": {},
   "outputs": [
    {
     "data": {
      "text/plain": [
       "(10000, 14)"
      ]
     },
     "execution_count": 3,
     "metadata": {},
     "output_type": "execute_result"
    }
   ],
   "source": [
    "df.shape"
   ]
  },
  {
   "cell_type": "code",
   "execution_count": 4,
   "id": "85f29495",
   "metadata": {
    "scrolled": true
   },
   "outputs": [
    {
     "data": {
      "text/html": [
       "<div>\n",
       "<style scoped>\n",
       "    .dataframe tbody tr th:only-of-type {\n",
       "        vertical-align: middle;\n",
       "    }\n",
       "\n",
       "    .dataframe tbody tr th {\n",
       "        vertical-align: top;\n",
       "    }\n",
       "\n",
       "    .dataframe thead th {\n",
       "        text-align: right;\n",
       "    }\n",
       "</style>\n",
       "<table border=\"1\" class=\"dataframe\">\n",
       "  <thead>\n",
       "    <tr style=\"text-align: right;\">\n",
       "      <th></th>\n",
       "      <th>RowNumber</th>\n",
       "      <th>CustomerId</th>\n",
       "      <th>Surname</th>\n",
       "      <th>CreditScore</th>\n",
       "      <th>Geography</th>\n",
       "      <th>Gender</th>\n",
       "      <th>Age</th>\n",
       "      <th>Tenure</th>\n",
       "      <th>Balance</th>\n",
       "      <th>NumOfProducts</th>\n",
       "      <th>HasCrCard</th>\n",
       "      <th>IsActiveMember</th>\n",
       "      <th>EstimatedSalary</th>\n",
       "      <th>Exited</th>\n",
       "    </tr>\n",
       "  </thead>\n",
       "  <tbody>\n",
       "    <tr>\n",
       "      <th>0</th>\n",
       "      <td>1</td>\n",
       "      <td>15634602</td>\n",
       "      <td>Hargrave</td>\n",
       "      <td>619</td>\n",
       "      <td>France</td>\n",
       "      <td>Female</td>\n",
       "      <td>42</td>\n",
       "      <td>2</td>\n",
       "      <td>0.00</td>\n",
       "      <td>1</td>\n",
       "      <td>1</td>\n",
       "      <td>1</td>\n",
       "      <td>101348.88</td>\n",
       "      <td>1</td>\n",
       "    </tr>\n",
       "    <tr>\n",
       "      <th>1</th>\n",
       "      <td>2</td>\n",
       "      <td>15647311</td>\n",
       "      <td>Hill</td>\n",
       "      <td>608</td>\n",
       "      <td>Spain</td>\n",
       "      <td>Female</td>\n",
       "      <td>41</td>\n",
       "      <td>1</td>\n",
       "      <td>83807.86</td>\n",
       "      <td>1</td>\n",
       "      <td>0</td>\n",
       "      <td>1</td>\n",
       "      <td>112542.58</td>\n",
       "      <td>0</td>\n",
       "    </tr>\n",
       "    <tr>\n",
       "      <th>2</th>\n",
       "      <td>3</td>\n",
       "      <td>15619304</td>\n",
       "      <td>Onio</td>\n",
       "      <td>502</td>\n",
       "      <td>France</td>\n",
       "      <td>Female</td>\n",
       "      <td>42</td>\n",
       "      <td>8</td>\n",
       "      <td>159660.80</td>\n",
       "      <td>3</td>\n",
       "      <td>1</td>\n",
       "      <td>0</td>\n",
       "      <td>113931.57</td>\n",
       "      <td>1</td>\n",
       "    </tr>\n",
       "    <tr>\n",
       "      <th>3</th>\n",
       "      <td>4</td>\n",
       "      <td>15701354</td>\n",
       "      <td>Boni</td>\n",
       "      <td>699</td>\n",
       "      <td>France</td>\n",
       "      <td>Female</td>\n",
       "      <td>39</td>\n",
       "      <td>1</td>\n",
       "      <td>0.00</td>\n",
       "      <td>2</td>\n",
       "      <td>0</td>\n",
       "      <td>0</td>\n",
       "      <td>93826.63</td>\n",
       "      <td>0</td>\n",
       "    </tr>\n",
       "    <tr>\n",
       "      <th>4</th>\n",
       "      <td>5</td>\n",
       "      <td>15737888</td>\n",
       "      <td>Mitchell</td>\n",
       "      <td>850</td>\n",
       "      <td>Spain</td>\n",
       "      <td>Female</td>\n",
       "      <td>43</td>\n",
       "      <td>2</td>\n",
       "      <td>125510.82</td>\n",
       "      <td>1</td>\n",
       "      <td>1</td>\n",
       "      <td>1</td>\n",
       "      <td>79084.10</td>\n",
       "      <td>0</td>\n",
       "    </tr>\n",
       "  </tbody>\n",
       "</table>\n",
       "</div>"
      ],
      "text/plain": [
       "   RowNumber  CustomerId   Surname  CreditScore Geography  Gender  Age  \\\n",
       "0          1    15634602  Hargrave          619    France  Female   42   \n",
       "1          2    15647311      Hill          608     Spain  Female   41   \n",
       "2          3    15619304      Onio          502    France  Female   42   \n",
       "3          4    15701354      Boni          699    France  Female   39   \n",
       "4          5    15737888  Mitchell          850     Spain  Female   43   \n",
       "\n",
       "   Tenure    Balance  NumOfProducts  HasCrCard  IsActiveMember  \\\n",
       "0       2       0.00              1          1               1   \n",
       "1       1   83807.86              1          0               1   \n",
       "2       8  159660.80              3          1               0   \n",
       "3       1       0.00              2          0               0   \n",
       "4       2  125510.82              1          1               1   \n",
       "\n",
       "   EstimatedSalary  Exited  \n",
       "0        101348.88       1  \n",
       "1        112542.58       0  \n",
       "2        113931.57       1  \n",
       "3         93826.63       0  \n",
       "4         79084.10       0  "
      ]
     },
     "execution_count": 4,
     "metadata": {},
     "output_type": "execute_result"
    }
   ],
   "source": [
    "df.head()"
   ]
  },
  {
   "cell_type": "markdown",
   "id": "9ccf04fa",
   "metadata": {},
   "source": [
    "the columns RowNumber,CustomerId,Surname are irrelevantfor the analysis. Therefore we can remove it."
   ]
  },
  {
   "cell_type": "code",
   "execution_count": 5,
   "id": "eb8796bb",
   "metadata": {},
   "outputs": [],
   "source": [
    "df.drop(['RowNumber','CustomerId','Surname'],axis = 1, inplace = True)"
   ]
  },
  {
   "cell_type": "code",
   "execution_count": 6,
   "id": "a31a1819",
   "metadata": {},
   "outputs": [
    {
     "data": {
      "text/html": [
       "<div>\n",
       "<style scoped>\n",
       "    .dataframe tbody tr th:only-of-type {\n",
       "        vertical-align: middle;\n",
       "    }\n",
       "\n",
       "    .dataframe tbody tr th {\n",
       "        vertical-align: top;\n",
       "    }\n",
       "\n",
       "    .dataframe thead th {\n",
       "        text-align: right;\n",
       "    }\n",
       "</style>\n",
       "<table border=\"1\" class=\"dataframe\">\n",
       "  <thead>\n",
       "    <tr style=\"text-align: right;\">\n",
       "      <th></th>\n",
       "      <th>CreditScore</th>\n",
       "      <th>Geography</th>\n",
       "      <th>Gender</th>\n",
       "      <th>Age</th>\n",
       "      <th>Tenure</th>\n",
       "      <th>Balance</th>\n",
       "      <th>NumOfProducts</th>\n",
       "      <th>HasCrCard</th>\n",
       "      <th>IsActiveMember</th>\n",
       "      <th>EstimatedSalary</th>\n",
       "      <th>Exited</th>\n",
       "    </tr>\n",
       "  </thead>\n",
       "  <tbody>\n",
       "    <tr>\n",
       "      <th>0</th>\n",
       "      <td>619</td>\n",
       "      <td>France</td>\n",
       "      <td>Female</td>\n",
       "      <td>42</td>\n",
       "      <td>2</td>\n",
       "      <td>0.00</td>\n",
       "      <td>1</td>\n",
       "      <td>1</td>\n",
       "      <td>1</td>\n",
       "      <td>101348.88</td>\n",
       "      <td>1</td>\n",
       "    </tr>\n",
       "    <tr>\n",
       "      <th>1</th>\n",
       "      <td>608</td>\n",
       "      <td>Spain</td>\n",
       "      <td>Female</td>\n",
       "      <td>41</td>\n",
       "      <td>1</td>\n",
       "      <td>83807.86</td>\n",
       "      <td>1</td>\n",
       "      <td>0</td>\n",
       "      <td>1</td>\n",
       "      <td>112542.58</td>\n",
       "      <td>0</td>\n",
       "    </tr>\n",
       "    <tr>\n",
       "      <th>2</th>\n",
       "      <td>502</td>\n",
       "      <td>France</td>\n",
       "      <td>Female</td>\n",
       "      <td>42</td>\n",
       "      <td>8</td>\n",
       "      <td>159660.80</td>\n",
       "      <td>3</td>\n",
       "      <td>1</td>\n",
       "      <td>0</td>\n",
       "      <td>113931.57</td>\n",
       "      <td>1</td>\n",
       "    </tr>\n",
       "    <tr>\n",
       "      <th>3</th>\n",
       "      <td>699</td>\n",
       "      <td>France</td>\n",
       "      <td>Female</td>\n",
       "      <td>39</td>\n",
       "      <td>1</td>\n",
       "      <td>0.00</td>\n",
       "      <td>2</td>\n",
       "      <td>0</td>\n",
       "      <td>0</td>\n",
       "      <td>93826.63</td>\n",
       "      <td>0</td>\n",
       "    </tr>\n",
       "    <tr>\n",
       "      <th>4</th>\n",
       "      <td>850</td>\n",
       "      <td>Spain</td>\n",
       "      <td>Female</td>\n",
       "      <td>43</td>\n",
       "      <td>2</td>\n",
       "      <td>125510.82</td>\n",
       "      <td>1</td>\n",
       "      <td>1</td>\n",
       "      <td>1</td>\n",
       "      <td>79084.10</td>\n",
       "      <td>0</td>\n",
       "    </tr>\n",
       "  </tbody>\n",
       "</table>\n",
       "</div>"
      ],
      "text/plain": [
       "   CreditScore Geography  Gender  Age  Tenure    Balance  NumOfProducts  \\\n",
       "0          619    France  Female   42       2       0.00              1   \n",
       "1          608     Spain  Female   41       1   83807.86              1   \n",
       "2          502    France  Female   42       8  159660.80              3   \n",
       "3          699    France  Female   39       1       0.00              2   \n",
       "4          850     Spain  Female   43       2  125510.82              1   \n",
       "\n",
       "   HasCrCard  IsActiveMember  EstimatedSalary  Exited  \n",
       "0          1               1        101348.88       1  \n",
       "1          0               1        112542.58       0  \n",
       "2          1               0        113931.57       1  \n",
       "3          0               0         93826.63       0  \n",
       "4          1               1         79084.10       0  "
      ]
     },
     "execution_count": 6,
     "metadata": {},
     "output_type": "execute_result"
    }
   ],
   "source": [
    "df.head()"
   ]
  },
  {
   "cell_type": "code",
   "execution_count": 8,
   "id": "f3c3d445",
   "metadata": {},
   "outputs": [
    {
     "data": {
      "text/plain": [
       "CreditScore          int64\n",
       "Geography           object\n",
       "Gender              object\n",
       "Age                  int64\n",
       "Tenure               int64\n",
       "Balance            float64\n",
       "NumOfProducts        int64\n",
       "HasCrCard            int64\n",
       "IsActiveMember       int64\n",
       "EstimatedSalary    float64\n",
       "Exited               int64\n",
       "dtype: object"
      ]
     },
     "execution_count": 8,
     "metadata": {},
     "output_type": "execute_result"
    }
   ],
   "source": [
    "df.dtypes"
   ]
  },
  {
   "cell_type": "markdown",
   "id": "c76eb3c6",
   "metadata": {},
   "source": [
    "Then we will go through some visualizations"
   ]
  },
  {
   "cell_type": "code",
   "execution_count": 16,
   "id": "d62f4cdd",
   "metadata": {},
   "outputs": [
    {
     "data": {
      "text/plain": [
       "Text(0, 0.5, 'No of customers')"
      ]
     },
     "execution_count": 16,
     "metadata": {},
     "output_type": "execute_result"
    },
    {
     "data": {
      "image/png": "[encoded data removed]",
      "text/plain": [
       "<Figure size 432x288 with 1 Axes>"
      ]
     },
     "metadata": {
      "needs_background": "light"
     },
     "output_type": "display_data"
    }
   ],
   "source": [
    "tenure_exited = df[df[\"Exited\"]==1].Tenure\n",
    "tenure_not_exited = df[df['Exited']==0].Tenure\n",
    "plt.hist([tenure_exited,tenure_not_exited], color = ['red','green'],label =['exited','not exited'])\n",
    "plt.legend()\n",
    "plt.xlabel('Tenure')\n",
    "plt.ylabel('No of customers')"
   ]
  },
  {
   "cell_type": "code",
   "execution_count": 18,
   "id": "24c4eca7",
   "metadata": {},
   "outputs": [
    {
     "data": {
      "text/plain": [
       "Text(0, 0.5, 'No of customers')"
      ]
     },
     "execution_count": 18,
     "metadata": {},
     "output_type": "execute_result"
    },
    {
     "data": {
      "image/png": "[encoded data removed]",
      "text/plain": [
       "<Figure size 432x288 with 1 Axes>"
      ]
     },
     "metadata": {
      "needs_background": "light"
     },
     "output_type": "display_data"
    }
   ],
   "source": [
    "creditscore_exited = df[df[\"Exited\"]==1].CreditScore\n",
    "creditscore_not_exited = df[df['Exited']==0].CreditScore\n",
    "plt.hist([creditscore_exited,creditscore_not_exited], color = ['red','green'],label =['exited','not exited'])\n",
    "plt.legend()\n",
    "plt.xlabel('Credit Score')\n",
    "plt.ylabel('No of customers')"
   ]
  },
  {
   "cell_type": "code",
   "execution_count": 19,
   "id": "a77d01f5",
   "metadata": {},
   "outputs": [
    {
     "data": {
      "text/plain": [
       "Text(0, 0.5, 'No of customers')"
      ]
     },
     "execution_count": 19,
     "metadata": {},
     "output_type": "execute_result"
    },
    {
     "data": {
      "image/png": "[encoded data removed]",
      "text/plain": [
       "<Figure size 432x288 with 1 Axes>"
      ]
     },
     "metadata": {
      "needs_background": "light"
     },
     "output_type": "display_data"
    }
   ],
   "source": [
    "nop_exited = df[df[\"Exited\"]==1].NumOfProducts\n",
    "nop_not_exited = df[df['Exited']==0].NumOfProducts\n",
    "plt.hist([nop_exited,nop_not_exited], color = ['red','green'],label =['exited','not exited'])\n",
    "plt.legend()\n",
    "plt.xlabel('NumOfProducts')\n",
    "plt.ylabel('No of customers')"
   ]
  },
  {
   "cell_type": "code",
   "execution_count": 20,
   "id": "51ebfcb4",
   "metadata": {},
   "outputs": [
    {
     "data": {
      "text/plain": [
       "Text(0, 0.5, 'No of customers')"
      ]
     },
     "execution_count": 20,
     "metadata": {},
     "output_type": "execute_result"
    },
    {
     "data": {
      "image/png": "[encoded data removed]",
      "text/plain": [
       "<Figure size 432x288 with 1 Axes>"
      ]
     },
     "metadata": {
      "needs_background": "light"
     },
     "output_type": "display_data"
    }
   ],
   "source": [
    "salary_exited = df[df[\"Exited\"]==1].EstimatedSalary\n",
    "salary_not_exited = df[df['Exited']==0].EstimatedSalary\n",
    "plt.hist([nop_exited,nop_not_exited], color = ['red','green'],label =['exited','not exited'])\n",
    "plt.legend()\n",
    "plt.xlabel('EstimatedSalary')\n",
    "plt.ylabel('No of customers')"
   ]
  },
  {
   "cell_type": "code",
   "execution_count": 24,
   "id": "cbe14b47",
   "metadata": {},
   "outputs": [
    {
     "name": "stdout",
     "output_type": "stream",
     "text": [
      "CreditScore:[619 608 502 699 850 645 822 376 501 684 528 497 476 549 635 616 653 587\n",
      " 726 732 636 510 669 846 577 756 571 574 411 591 533 553 520 722 475 490\n",
      " 804 582 472 465 556 834 660 776 829 637 550 698 585 788 655 601 656 725\n",
      " 511 614 742 687 555 603 751 581 735 661 675 738 813 657 604 519 664 678\n",
      " 757 416 665 777 543 506 493 652 750 729 646 647 808 524 769 730 515 773\n",
      " 814 710 413 623 670 622 785 605 479 685 538 562 721 628 668 828 674 625\n",
      " 432 770 758 795 686 789 589 461 584 579 663 682 793 691 485 650 754 535\n",
      " 716 539 706 586 631 717 800 683 704 615 667 484 480 578 512 606 597 778\n",
      " 514 525 715 580 807 521 759 516 711 618 643 671 689 620 676 572 695 592\n",
      " 567 694 547 594 673 610 767 763 712 703 662 659 523 772 545 634 739 771\n",
      " 681 544 696 766 727 693 557 531 498 651 791 733 811 707 714 782 775 799\n",
      " 602 744 588 747 583 627 731 629 438 642 806 474 559 429 680 749 734 644\n",
      " 626 649 805 718 840 630 654 762 568 613 522 737 648 443 640 540 460 593\n",
      " 801 611 802 745 483 690 492 709 705 560 752 701 537 487 596 702 486 724\n",
      " 548 464 790 534 748 494 590 468 509 818 816 536 753 774 621 569 658 798\n",
      " 641 542 692 639 765 570 638 599 632 779 527 564 833 504 842 508 417 598\n",
      " 741 607 761 848 546 439 755 760 526 713 700 666 566 495 688 612 477 427\n",
      " 839 819 720 459 503 624 529 563 482 796 445 746 786 554 672 787 499 844\n",
      " 450 815 838 803 736 633 600 679 517 792 743 488 421 841 708 507 505 456\n",
      " 435 561 518 565 728 784 552 609 764 697 723 551 444 719 496 541 830 812\n",
      " 677 420 595 617 809 500 826 434 513 478 797 363 399 463 780 452 575 837\n",
      " 794 824 428 823 781 849 489 431 457 768 831 359 820 573 576 558 817 449\n",
      " 440 415 821 530 350 446 425 740 481 783 358 845 451 458 469 423 404 836\n",
      " 473 835 466 491 351 827 843 365 532 414 453 471 401 810 832 470 447 422\n",
      " 825 430 436 426 408 847 418 437 410 454 407 455 462 386 405 383 395 467\n",
      " 433 442 424 448 441 367 412 382 373 419]\n",
      "Geography:['France' 'Spain' 'Germany']\n",
      "Gender:['Female' 'Male']\n",
      "Age:[42 41 39 43 44 50 29 27 31 24 34 25 35 45 58 32 38 46 36 33 40 51 61 49\n",
      " 37 19 66 56 26 21 55 75 22 30 28 65 48 52 57 73 47 54 72 20 67 79 62 53\n",
      " 80 59 68 23 60 70 63 64 18 82 69 74 71 76 77 88 85 84 78 81 92 83]\n",
      "Tenure:[ 2  1  8  7  4  6  3 10  5  9  0]\n",
      "Balance:[     0.    83807.86 159660.8  ...  57369.61  75075.31 130142.79]\n",
      "NumOfProducts:[1 3 2 4]\n",
      "HasCrCard:[1 0]\n",
      "IsActiveMember:[1 0]\n",
      "EstimatedSalary:[101348.88 112542.58 113931.57 ...  42085.58  92888.52  38190.78]\n",
      "Exited:[1 0]\n"
     ]
    }
   ],
   "source": [
    "for column in df:\n",
    "     print(f'{column}:{df[column].unique()}')"
   ]
  },
  {
   "cell_type": "markdown",
   "id": "bb3605ea",
   "metadata": {},
   "source": [
    "converting type object into  numerical values by using one hot encoding and by replacing with numbers."
   ]
  },
  {
   "cell_type": "code",
   "execution_count": 25,
   "id": "2415110c",
   "metadata": {},
   "outputs": [],
   "source": [
    "df['Gender'].replace({'Male':1,'Female':0},inplace = True)"
   ]
  },
  {
   "cell_type": "code",
   "execution_count": 26,
   "id": "463daeac",
   "metadata": {},
   "outputs": [],
   "source": [
    "df1 = pd.get_dummies(data = df, columns = ['Geography'])"
   ]
  },
  {
   "cell_type": "code",
   "execution_count": 27,
   "id": "662d0b64",
   "metadata": {},
   "outputs": [
    {
     "data": {
      "text/html": [
       "<div>\n",
       "<style scoped>\n",
       "    .dataframe tbody tr th:only-of-type {\n",
       "        vertical-align: middle;\n",
       "    }\n",
       "\n",
       "    .dataframe tbody tr th {\n",
       "        vertical-align: top;\n",
       "    }\n",
       "\n",
       "    .dataframe thead th {\n",
       "        text-align: right;\n",
       "    }\n",
       "</style>\n",
       "<table border=\"1\" class=\"dataframe\">\n",
       "  <thead>\n",
       "    <tr style=\"text-align: right;\">\n",
       "      <th></th>\n",
       "      <th>CreditScore</th>\n",
       "      <th>Gender</th>\n",
       "      <th>Age</th>\n",
       "      <th>Tenure</th>\n",
       "      <th>Balance</th>\n",
       "      <th>NumOfProducts</th>\n",
       "      <th>HasCrCard</th>\n",
       "      <th>IsActiveMember</th>\n",
       "      <th>EstimatedSalary</th>\n",
       "      <th>Exited</th>\n",
       "      <th>Geography_France</th>\n",
       "      <th>Geography_Germany</th>\n",
       "      <th>Geography_Spain</th>\n",
       "    </tr>\n",
       "  </thead>\n",
       "  <tbody>\n",
       "    <tr>\n",
       "      <th>0</th>\n",
       "      <td>619</td>\n",
       "      <td>0</td>\n",
       "      <td>42</td>\n",
       "      <td>2</td>\n",
       "      <td>0.00</td>\n",
       "      <td>1</td>\n",
       "      <td>1</td>\n",
       "      <td>1</td>\n",
       "      <td>101348.88</td>\n",
       "      <td>1</td>\n",
       "      <td>1</td>\n",
       "      <td>0</td>\n",
       "      <td>0</td>\n",
       "    </tr>\n",
       "    <tr>\n",
       "      <th>1</th>\n",
       "      <td>608</td>\n",
       "      <td>0</td>\n",
       "      <td>41</td>\n",
       "      <td>1</td>\n",
       "      <td>83807.86</td>\n",
       "      <td>1</td>\n",
       "      <td>0</td>\n",
       "      <td>1</td>\n",
       "      <td>112542.58</td>\n",
       "      <td>0</td>\n",
       "      <td>0</td>\n",
       "      <td>0</td>\n",
       "      <td>1</td>\n",
       "    </tr>\n",
       "    <tr>\n",
       "      <th>2</th>\n",
       "      <td>502</td>\n",
       "      <td>0</td>\n",
       "      <td>42</td>\n",
       "      <td>8</td>\n",
       "      <td>159660.80</td>\n",
       "      <td>3</td>\n",
       "      <td>1</td>\n",
       "      <td>0</td>\n",
       "      <td>113931.57</td>\n",
       "      <td>1</td>\n",
       "      <td>1</td>\n",
       "      <td>0</td>\n",
       "      <td>0</td>\n",
       "    </tr>\n",
       "    <tr>\n",
       "      <th>3</th>\n",
       "      <td>699</td>\n",
       "      <td>0</td>\n",
       "      <td>39</td>\n",
       "      <td>1</td>\n",
       "      <td>0.00</td>\n",
       "      <td>2</td>\n",
       "      <td>0</td>\n",
       "      <td>0</td>\n",
       "      <td>93826.63</td>\n",
       "      <td>0</td>\n",
       "      <td>1</td>\n",
       "      <td>0</td>\n",
       "      <td>0</td>\n",
       "    </tr>\n",
       "    <tr>\n",
       "      <th>4</th>\n",
       "      <td>850</td>\n",
       "      <td>0</td>\n",
       "      <td>43</td>\n",
       "      <td>2</td>\n",
       "      <td>125510.82</td>\n",
       "      <td>1</td>\n",
       "      <td>1</td>\n",
       "      <td>1</td>\n",
       "      <td>79084.10</td>\n",
       "      <td>0</td>\n",
       "      <td>0</td>\n",
       "      <td>0</td>\n",
       "      <td>1</td>\n",
       "    </tr>\n",
       "  </tbody>\n",
       "</table>\n",
       "</div>"
      ],
      "text/plain": [
       "   CreditScore  Gender  Age  Tenure    Balance  NumOfProducts  HasCrCard  \\\n",
       "0          619       0   42       2       0.00              1          1   \n",
       "1          608       0   41       1   83807.86              1          0   \n",
       "2          502       0   42       8  159660.80              3          1   \n",
       "3          699       0   39       1       0.00              2          0   \n",
       "4          850       0   43       2  125510.82              1          1   \n",
       "\n",
       "   IsActiveMember  EstimatedSalary  Exited  Geography_France  \\\n",
       "0               1        101348.88       1                 1   \n",
       "1               1        112542.58       0                 0   \n",
       "2               0        113931.57       1                 1   \n",
       "3               0         93826.63       0                 1   \n",
       "4               1         79084.10       0                 0   \n",
       "\n",
       "   Geography_Germany  Geography_Spain  \n",
       "0                  0                0  \n",
       "1                  0                1  \n",
       "2                  0                0  \n",
       "3                  0                0  \n",
       "4                  0                1  "
      ]
     },
     "execution_count": 27,
     "metadata": {},
     "output_type": "execute_result"
    }
   ],
   "source": [
    "df1.head()"
   ]
  },
  {
   "cell_type": "markdown",
   "id": "fd520693",
   "metadata": {},
   "source": [
    "Next step is the normalization.Here we use sklearn preprocessingand minmax scaler"
   ]
  },
  {
   "cell_type": "code",
   "execution_count": 29,
   "id": "36faefc1",
   "metadata": {},
   "outputs": [],
   "source": [
    "from sklearn.preprocessing import MinMaxScaler\n",
    "scaler = MinMaxScaler()"
   ]
  },
  {
   "cell_type": "code",
   "execution_count": 37,
   "id": "5952d223",
   "metadata": {},
   "outputs": [],
   "source": [
    "cols_to_scale = ['CreditScore','Age','Balance','NumOfProducts','EstimatedSalary','Tenure']\n",
    "df1[cols_to_scale] = scaler.fit_transform(df1[cols_to_scale])"
   ]
  },
  {
   "cell_type": "code",
   "execution_count": 38,
   "id": "aa7e6481",
   "metadata": {},
   "outputs": [
    {
     "data": {
      "text/html": [
       "<div>\n",
       "<style scoped>\n",
       "    .dataframe tbody tr th:only-of-type {\n",
       "        vertical-align: middle;\n",
       "    }\n",
       "\n",
       "    .dataframe tbody tr th {\n",
       "        vertical-align: top;\n",
       "    }\n",
       "\n",
       "    .dataframe thead th {\n",
       "        text-align: right;\n",
       "    }\n",
       "</style>\n",
       "<table border=\"1\" class=\"dataframe\">\n",
       "  <thead>\n",
       "    <tr style=\"text-align: right;\">\n",
       "      <th></th>\n",
       "      <th>CreditScore</th>\n",
       "      <th>Gender</th>\n",
       "      <th>Age</th>\n",
       "      <th>Tenure</th>\n",
       "      <th>Balance</th>\n",
       "      <th>NumOfProducts</th>\n",
       "      <th>HasCrCard</th>\n",
       "      <th>IsActiveMember</th>\n",
       "      <th>EstimatedSalary</th>\n",
       "      <th>Exited</th>\n",
       "      <th>Geography_France</th>\n",
       "      <th>Geography_Germany</th>\n",
       "      <th>Geography_Spain</th>\n",
       "    </tr>\n",
       "  </thead>\n",
       "  <tbody>\n",
       "    <tr>\n",
       "      <th>6579</th>\n",
       "      <td>0.292</td>\n",
       "      <td>0</td>\n",
       "      <td>0.243243</td>\n",
       "      <td>0.7</td>\n",
       "      <td>0.000000</td>\n",
       "      <td>0.333333</td>\n",
       "      <td>0</td>\n",
       "      <td>0</td>\n",
       "      <td>0.540485</td>\n",
       "      <td>0</td>\n",
       "      <td>1</td>\n",
       "      <td>0</td>\n",
       "      <td>0</td>\n",
       "    </tr>\n",
       "    <tr>\n",
       "      <th>2157</th>\n",
       "      <td>0.788</td>\n",
       "      <td>0</td>\n",
       "      <td>0.351351</td>\n",
       "      <td>0.3</td>\n",
       "      <td>0.000000</td>\n",
       "      <td>0.333333</td>\n",
       "      <td>1</td>\n",
       "      <td>1</td>\n",
       "      <td>0.945113</td>\n",
       "      <td>0</td>\n",
       "      <td>1</td>\n",
       "      <td>0</td>\n",
       "      <td>0</td>\n",
       "    </tr>\n",
       "    <tr>\n",
       "      <th>64</th>\n",
       "      <td>0.506</td>\n",
       "      <td>1</td>\n",
       "      <td>0.108108</td>\n",
       "      <td>0.4</td>\n",
       "      <td>0.435102</td>\n",
       "      <td>0.000000</td>\n",
       "      <td>1</td>\n",
       "      <td>1</td>\n",
       "      <td>0.464190</td>\n",
       "      <td>0</td>\n",
       "      <td>0</td>\n",
       "      <td>1</td>\n",
       "      <td>0</td>\n",
       "    </tr>\n",
       "    <tr>\n",
       "      <th>8679</th>\n",
       "      <td>0.882</td>\n",
       "      <td>1</td>\n",
       "      <td>0.229730</td>\n",
       "      <td>0.5</td>\n",
       "      <td>0.517455</td>\n",
       "      <td>0.000000</td>\n",
       "      <td>1</td>\n",
       "      <td>1</td>\n",
       "      <td>0.909620</td>\n",
       "      <td>1</td>\n",
       "      <td>0</td>\n",
       "      <td>1</td>\n",
       "      <td>0</td>\n",
       "    </tr>\n",
       "  </tbody>\n",
       "</table>\n",
       "</div>"
      ],
      "text/plain": [
       "      CreditScore  Gender       Age  Tenure   Balance  NumOfProducts  \\\n",
       "6579        0.292       0  0.243243     0.7  0.000000       0.333333   \n",
       "2157        0.788       0  0.351351     0.3  0.000000       0.333333   \n",
       "64          0.506       1  0.108108     0.4  0.435102       0.000000   \n",
       "8679        0.882       1  0.229730     0.5  0.517455       0.000000   \n",
       "\n",
       "      HasCrCard  IsActiveMember  EstimatedSalary  Exited  Geography_France  \\\n",
       "6579          0               0         0.540485       0                 1   \n",
       "2157          1               1         0.945113       0                 1   \n",
       "64            1               1         0.464190       0                 0   \n",
       "8679          1               1         0.909620       1                 0   \n",
       "\n",
       "      Geography_Germany  Geography_Spain  \n",
       "6579                  0                0  \n",
       "2157                  0                0  \n",
       "64                    1                0  \n",
       "8679                  1                0  "
      ]
     },
     "execution_count": 38,
     "metadata": {},
     "output_type": "execute_result"
    }
   ],
   "source": [
    "df1.sample(4)"
   ]
  },
  {
   "cell_type": "markdown",
   "id": "d5d7aa89",
   "metadata": {},
   "source": [
    "split data into train and test data"
   ]
  },
  {
   "cell_type": "code",
   "execution_count": 40,
   "id": "1224e1f5",
   "metadata": {},
   "outputs": [],
   "source": [
    "x = df1.drop(\"Exited\", axis =1)\n",
    "y  = df1['Exited']"
   ]
  },
  {
   "cell_type": "code",
   "execution_count": 41,
   "id": "f779f941",
   "metadata": {},
   "outputs": [],
   "source": [
    "from sklearn.model_selection import train_test_split\n",
    "x_train,x_test,y_train,y_test = train_test_split(x,y,test_size= 0.2,random_state = 5)"
   ]
  },
  {
   "cell_type": "code",
   "execution_count": 42,
   "id": "b0764eb9",
   "metadata": {},
   "outputs": [
    {
     "data": {
      "text/plain": [
       "8000"
      ]
     },
     "execution_count": 42,
     "metadata": {},
     "output_type": "execute_result"
    }
   ],
   "source": [
    "len(x_train)"
   ]
  },
  {
   "cell_type": "code",
   "execution_count": 43,
   "id": "7d3285af",
   "metadata": {},
   "outputs": [
    {
     "data": {
      "text/plain": [
       "2000"
      ]
     },
     "execution_count": 43,
     "metadata": {},
     "output_type": "execute_result"
    }
   ],
   "source": [
    "len(x_test)"
   ]
  },
  {
   "cell_type": "code",
   "execution_count": 44,
   "id": "2c3958e3",
   "metadata": {},
   "outputs": [
    {
     "data": {
      "text/plain": [
       "(10000, 13)"
      ]
     },
     "execution_count": 44,
     "metadata": {},
     "output_type": "execute_result"
    }
   ],
   "source": [
    "df1.shape"
   ]
  },
  {
   "cell_type": "markdown",
   "id": "3910d86e",
   "metadata": {},
   "source": [
    "prediction "
   ]
  },
  {
   "cell_type": "code",
   "execution_count": 47,
   "id": "97fa3b5b",
   "metadata": {},
   "outputs": [
    {
     "name": "stdout",
     "output_type": "stream",
     "text": [
      "Epoch 1/100\n",
      "250/250 [==============================] - 1s 765us/step - loss: 0.5065 - accuracy: 0.7920\n",
      "Epoch 2/100\n",
      "250/250 [==============================] - 0s 747us/step - loss: 0.4744 - accuracy: 0.7960\n",
      "Epoch 3/100\n",
      "250/250 [==============================] - 0s 760us/step - loss: 0.4631 - accuracy: 0.7960\n",
      "Epoch 4/100\n",
      "250/250 [==============================] - 0s 712us/step - loss: 0.4532 - accuracy: 0.7960\n",
      "Epoch 5/100\n",
      "250/250 [==============================] - 0s 686us/step - loss: 0.4436 - accuracy: 0.7969\n",
      "Epoch 6/100\n",
      "250/250 [==============================] - 0s 702us/step - loss: 0.4353 - accuracy: 0.7990\n",
      "Epoch 7/100\n",
      "250/250 [==============================] - 0s 693us/step - loss: 0.4281 - accuracy: 0.8043\n",
      "Epoch 8/100\n",
      "250/250 [==============================] - 0s 710us/step - loss: 0.4194 - accuracy: 0.8125\n",
      "Epoch 9/100\n",
      "250/250 [==============================] - 0s 693us/step - loss: 0.4080 - accuracy: 0.8198\n",
      "Epoch 10/100\n",
      "250/250 [==============================] - 0s 711us/step - loss: 0.3946 - accuracy: 0.8328\n",
      "Epoch 11/100\n",
      "250/250 [==============================] - 0s 729us/step - loss: 0.3807 - accuracy: 0.8393\n",
      "Epoch 12/100\n",
      "250/250 [==============================] - 0s 719us/step - loss: 0.3718 - accuracy: 0.8419\n",
      "Epoch 13/100\n",
      "250/250 [==============================] - 0s 759us/step - loss: 0.3645 - accuracy: 0.8469\n",
      "Epoch 14/100\n",
      "250/250 [==============================] - 0s 690us/step - loss: 0.3628 - accuracy: 0.8499\n",
      "Epoch 15/100\n",
      "250/250 [==============================] - 0s 733us/step - loss: 0.3578 - accuracy: 0.8530\n",
      "Epoch 16/100\n",
      "250/250 [==============================] - 0s 725us/step - loss: 0.3543 - accuracy: 0.8553\n",
      "Epoch 17/100\n",
      "250/250 [==============================] - 0s 740us/step - loss: 0.3530 - accuracy: 0.8561\n",
      "Epoch 18/100\n",
      "250/250 [==============================] - 0s 738us/step - loss: 0.3512 - accuracy: 0.8569\n",
      "Epoch 19/100\n",
      "250/250 [==============================] - 0s 700us/step - loss: 0.3495 - accuracy: 0.8572\n",
      "Epoch 20/100\n",
      "250/250 [==============================] - 0s 730us/step - loss: 0.3483 - accuracy: 0.8577\n",
      "Epoch 21/100\n",
      "250/250 [==============================] - 0s 748us/step - loss: 0.3473 - accuracy: 0.8597\n",
      "Epoch 22/100\n",
      "250/250 [==============================] - 0s 794us/step - loss: 0.3462 - accuracy: 0.8597\n",
      "Epoch 23/100\n",
      "250/250 [==============================] - 0s 904us/step - loss: 0.3463 - accuracy: 0.8599\n",
      "Epoch 24/100\n",
      "250/250 [==============================] - 0s 940us/step - loss: 0.3450 - accuracy: 0.8601\n",
      "Epoch 25/100\n",
      "250/250 [==============================] - 0s 839us/step - loss: 0.3442 - accuracy: 0.8604\n",
      "Epoch 26/100\n",
      "250/250 [==============================] - 0s 751us/step - loss: 0.3438 - accuracy: 0.8635\n",
      "Epoch 27/100\n",
      "250/250 [==============================] - 0s 744us/step - loss: 0.3437 - accuracy: 0.8600\n",
      "Epoch 28/100\n",
      "250/250 [==============================] - 0s 791us/step - loss: 0.3428 - accuracy: 0.8594\n",
      "Epoch 29/100\n",
      "250/250 [==============================] - 0s 706us/step - loss: 0.3424 - accuracy: 0.8612\n",
      "Epoch 30/100\n",
      "250/250 [==============================] - 0s 691us/step - loss: 0.3420 - accuracy: 0.8604\n",
      "Epoch 31/100\n",
      "250/250 [==============================] - 0s 770us/step - loss: 0.3423 - accuracy: 0.8629\n",
      "Epoch 32/100\n",
      "250/250 [==============================] - 0s 778us/step - loss: 0.3408 - accuracy: 0.8614\n",
      "Epoch 33/100\n",
      "250/250 [==============================] - 0s 782us/step - loss: 0.3414 - accuracy: 0.8608\n",
      "Epoch 34/100\n",
      "250/250 [==============================] - 0s 693us/step - loss: 0.3402 - accuracy: 0.8635\n",
      "Epoch 35/100\n",
      "250/250 [==============================] - 0s 828us/step - loss: 0.3403 - accuracy: 0.8608\n",
      "Epoch 36/100\n",
      "250/250 [==============================] - 0s 763us/step - loss: 0.3389 - accuracy: 0.8624\n",
      "Epoch 37/100\n",
      "250/250 [==============================] - 0s 807us/step - loss: 0.3396 - accuracy: 0.8618\n",
      "Epoch 38/100\n",
      "250/250 [==============================] - 0s 793us/step - loss: 0.3396 - accuracy: 0.8619\n",
      "Epoch 39/100\n",
      "250/250 [==============================] - 0s 698us/step - loss: 0.3379 - accuracy: 0.8635\n",
      "Epoch 40/100\n",
      "250/250 [==============================] - 0s 715us/step - loss: 0.3384 - accuracy: 0.8622\n",
      "Epoch 41/100\n",
      "250/250 [==============================] - 0s 676us/step - loss: 0.3384 - accuracy: 0.8625\n",
      "Epoch 42/100\n",
      "250/250 [==============================] - 0s 703us/step - loss: 0.3376 - accuracy: 0.8655\n",
      "Epoch 43/100\n",
      "250/250 [==============================] - 0s 716us/step - loss: 0.3371 - accuracy: 0.8639\n",
      "Epoch 44/100\n",
      "250/250 [==============================] - 0s 764us/step - loss: 0.3381 - accuracy: 0.8640\n",
      "Epoch 45/100\n",
      "250/250 [==============================] - 0s 737us/step - loss: 0.3387 - accuracy: 0.8627\n",
      "Epoch 46/100\n",
      "250/250 [==============================] - 0s 706us/step - loss: 0.3383 - accuracy: 0.8640\n",
      "Epoch 47/100\n",
      "250/250 [==============================] - 0s 731us/step - loss: 0.3372 - accuracy: 0.8641\n",
      "Epoch 48/100\n",
      "250/250 [==============================] - 0s 741us/step - loss: 0.3360 - accuracy: 0.8633\n",
      "Epoch 49/100\n",
      "250/250 [==============================] - 0s 742us/step - loss: 0.3364 - accuracy: 0.8650\n",
      "Epoch 50/100\n",
      "250/250 [==============================] - 0s 725us/step - loss: 0.3365 - accuracy: 0.8637\n",
      "Epoch 51/100\n",
      "250/250 [==============================] - 0s 734us/step - loss: 0.3364 - accuracy: 0.8648\n",
      "Epoch 52/100\n",
      "250/250 [==============================] - 0s 721us/step - loss: 0.3362 - accuracy: 0.8620\n",
      "Epoch 53/100\n",
      "250/250 [==============================] - 0s 738us/step - loss: 0.3357 - accuracy: 0.8652\n",
      "Epoch 54/100\n",
      "250/250 [==============================] - 0s 720us/step - loss: 0.3358 - accuracy: 0.8648\n",
      "Epoch 55/100\n",
      "250/250 [==============================] - 0s 693us/step - loss: 0.3351 - accuracy: 0.8648\n",
      "Epoch 56/100\n",
      "250/250 [==============================] - 0s 707us/step - loss: 0.3350 - accuracy: 0.8631\n",
      "Epoch 57/100\n",
      "250/250 [==============================] - 0s 710us/step - loss: 0.3347 - accuracy: 0.8658\n",
      "Epoch 58/100\n",
      "250/250 [==============================] - 0s 704us/step - loss: 0.3352 - accuracy: 0.8640\n",
      "Epoch 59/100\n",
      "250/250 [==============================] - 0s 711us/step - loss: 0.3343 - accuracy: 0.8654\n",
      "Epoch 60/100\n",
      "250/250 [==============================] - 0s 710us/step - loss: 0.3357 - accuracy: 0.8635\n",
      "Epoch 61/100\n",
      "250/250 [==============================] - 0s 736us/step - loss: 0.3352 - accuracy: 0.8658\n",
      "Epoch 62/100\n",
      "250/250 [==============================] - 0s 721us/step - loss: 0.3345 - accuracy: 0.8637\n",
      "Epoch 63/100\n",
      "250/250 [==============================] - 0s 724us/step - loss: 0.3344 - accuracy: 0.8639\n",
      "Epoch 64/100\n",
      "250/250 [==============================] - 0s 780us/step - loss: 0.3340 - accuracy: 0.8636\n",
      "Epoch 65/100\n",
      "250/250 [==============================] - 0s 729us/step - loss: 0.3347 - accuracy: 0.8655\n",
      "Epoch 66/100\n",
      "250/250 [==============================] - 0s 710us/step - loss: 0.3353 - accuracy: 0.8639\n",
      "Epoch 67/100\n",
      "250/250 [==============================] - 0s 720us/step - loss: 0.3332 - accuracy: 0.8641\n",
      "Epoch 68/100\n",
      "250/250 [==============================] - 0s 707us/step - loss: 0.3331 - accuracy: 0.8659\n",
      "Epoch 69/100\n",
      "250/250 [==============================] - 0s 784us/step - loss: 0.3334 - accuracy: 0.8645\n",
      "Epoch 70/100\n",
      "250/250 [==============================] - 0s 790us/step - loss: 0.3329 - accuracy: 0.8664\n",
      "Epoch 71/100\n",
      "250/250 [==============================] - 0s 808us/step - loss: 0.3323 - accuracy: 0.8636\n",
      "Epoch 72/100\n",
      "250/250 [==============================] - 0s 794us/step - loss: 0.3334 - accuracy: 0.8665\n",
      "Epoch 73/100\n",
      "250/250 [==============================] - 0s 846us/step - loss: 0.3337 - accuracy: 0.8629\n",
      "Epoch 74/100\n",
      "250/250 [==============================] - 0s 812us/step - loss: 0.3323 - accuracy: 0.8670\n",
      "Epoch 75/100\n",
      "250/250 [==============================] - 0s 793us/step - loss: 0.3324 - accuracy: 0.8659\n",
      "Epoch 76/100\n",
      "250/250 [==============================] - 0s 801us/step - loss: 0.3334 - accuracy: 0.8641\n",
      "Epoch 77/100\n",
      "250/250 [==============================] - 0s 778us/step - loss: 0.3323 - accuracy: 0.8652\n",
      "Epoch 78/100\n",
      "250/250 [==============================] - 0s 847us/step - loss: 0.3322 - accuracy: 0.8631\n",
      "Epoch 79/100\n"
     ]
    },
    {
     "name": "stdout",
     "output_type": "stream",
     "text": [
      "250/250 [==============================] - 0s 860us/step - loss: 0.3319 - accuracy: 0.8662\n",
      "Epoch 80/100\n",
      "250/250 [==============================] - 0s 747us/step - loss: 0.3324 - accuracy: 0.8634\n",
      "Epoch 81/100\n",
      "250/250 [==============================] - 0s 750us/step - loss: 0.3317 - accuracy: 0.8640\n",
      "Epoch 82/100\n",
      "250/250 [==============================] - 0s 730us/step - loss: 0.3304 - accuracy: 0.8669\n",
      "Epoch 83/100\n",
      "250/250 [==============================] - 0s 742us/step - loss: 0.3317 - accuracy: 0.8641\n",
      "Epoch 84/100\n",
      "250/250 [==============================] - 0s 753us/step - loss: 0.3316 - accuracy: 0.8662\n",
      "Epoch 85/100\n",
      "250/250 [==============================] - 0s 748us/step - loss: 0.3313 - accuracy: 0.8655\n",
      "Epoch 86/100\n",
      "250/250 [==============================] - 0s 758us/step - loss: 0.3317 - accuracy: 0.8655\n",
      "Epoch 87/100\n",
      "250/250 [==============================] - 0s 730us/step - loss: 0.3313 - accuracy: 0.8637\n",
      "Epoch 88/100\n",
      "250/250 [==============================] - 0s 696us/step - loss: 0.3304 - accuracy: 0.8644\n",
      "Epoch 89/100\n",
      "250/250 [==============================] - 0s 696us/step - loss: 0.3306 - accuracy: 0.8650\n",
      "Epoch 90/100\n",
      "250/250 [==============================] - 0s 741us/step - loss: 0.3309 - accuracy: 0.86430s - loss: 0.3377 - accuracy: \n",
      "Epoch 91/100\n",
      "250/250 [==============================] - 0s 708us/step - loss: 0.3312 - accuracy: 0.8658\n",
      "Epoch 92/100\n",
      "250/250 [==============================] - 0s 675us/step - loss: 0.3305 - accuracy: 0.8662\n",
      "Epoch 93/100\n",
      "250/250 [==============================] - 0s 672us/step - loss: 0.3302 - accuracy: 0.8645\n",
      "Epoch 94/100\n",
      "250/250 [==============================] - 0s 687us/step - loss: 0.3299 - accuracy: 0.8639\n",
      "Epoch 95/100\n",
      "250/250 [==============================] - 0s 729us/step - loss: 0.3301 - accuracy: 0.8643\n",
      "Epoch 96/100\n",
      "250/250 [==============================] - 0s 746us/step - loss: 0.3295 - accuracy: 0.8640\n",
      "Epoch 97/100\n",
      "250/250 [==============================] - 0s 714us/step - loss: 0.3297 - accuracy: 0.8673\n",
      "Epoch 98/100\n",
      "250/250 [==============================] - 0s 685us/step - loss: 0.3303 - accuracy: 0.8661\n",
      "Epoch 99/100\n",
      "250/250 [==============================] - 0s 703us/step - loss: 0.3300 - accuracy: 0.8637\n",
      "Epoch 100/100\n",
      "250/250 [==============================] - 0s 727us/step - loss: 0.3297 - accuracy: 0.8650\n"
     ]
    },
    {
     "data": {
      "text/plain": [
       "<tensorflow.python.keras.callbacks.History at 0x19d09b2b460>"
      ]
     },
     "execution_count": 47,
     "metadata": {},
     "output_type": "execute_result"
    }
   ],
   "source": [
    "import tensorflow as tf\n",
    "from tensorflow import keras\n",
    "\n",
    "\n",
    "model = keras.Sequential([\n",
    "    keras.layers.Dense(12, input_shape=(12,), activation='relu'),\n",
    "    keras.layers.Dense(8, activation='relu'),\n",
    "    keras.layers.Dense(1, activation='sigmoid')\n",
    "])\n",
    "\n",
    "model.compile(optimizer = 'adam',\n",
    "             loss = 'binary_crossentropy',\n",
    "             metrics = ['accuracy'])\n",
    "\n",
    "\n",
    "model.fit(x_train,y_train, epochs =100)"
   ]
  },
  {
   "cell_type": "code",
   "execution_count": 48,
   "id": "a21ac0fa",
   "metadata": {},
   "outputs": [
    {
     "name": "stdout",
     "output_type": "stream",
     "text": [
      "63/63 [==============================] - 0s 837us/step - loss: 0.3541 - accuracy: 0.8535\n"
     ]
    },
    {
     "data": {
      "text/plain": [
       "[0.3541109263896942, 0.8535000085830688]"
      ]
     },
     "execution_count": 48,
     "metadata": {},
     "output_type": "execute_result"
    }
   ],
   "source": [
    "model.evaluate(x_test,y_test)"
   ]
  },
  {
   "cell_type": "code",
   "execution_count": 49,
   "id": "1baf9e8d",
   "metadata": {},
   "outputs": [],
   "source": [
    "yp = model.predict(x_test)"
   ]
  },
  {
   "cell_type": "code",
   "execution_count": 50,
   "id": "83f942e6",
   "metadata": {},
   "outputs": [
    {
     "data": {
      "text/plain": [
       "array([[0.01468104],\n",
       "       [0.03770837],\n",
       "       [0.04001135],\n",
       "       ...,\n",
       "       [0.01042485],\n",
       "       [0.00516614],\n",
       "       [0.04623118]], dtype=float32)"
      ]
     },
     "execution_count": 50,
     "metadata": {},
     "output_type": "execute_result"
    }
   ],
   "source": [
    "yp"
   ]
  },
  {
   "cell_type": "code",
   "execution_count": 51,
   "id": "738270f9",
   "metadata": {},
   "outputs": [],
   "source": [
    "y_pred = []\n",
    "for  element in yp:\n",
    "    if element>=0.5:\n",
    "        y_pred.append(1)\n",
    "    else:\n",
    "        y_pred.append(0)"
   ]
  },
  {
   "cell_type": "code",
   "execution_count": 52,
   "id": "eef64aa3",
   "metadata": {},
   "outputs": [
    {
     "data": {
      "text/plain": [
       "7054    0\n",
       "442     0\n",
       "3954    0\n",
       "2288    0\n",
       "3196    0\n",
       "6178    0\n",
       "8351    0\n",
       "5658    1\n",
       "2065    0\n",
       "413     1\n",
       "Name: Exited, dtype: int64"
      ]
     },
     "execution_count": 52,
     "metadata": {},
     "output_type": "execute_result"
    }
   ],
   "source": [
    "y_test[:10]"
   ]
  },
  {
   "cell_type": "code",
   "execution_count": 53,
   "id": "ef69038b",
   "metadata": {},
   "outputs": [
    {
     "data": {
      "text/plain": [
       "[0, 0, 0, 0, 0, 0, 0, 0, 0, 1]"
      ]
     },
     "execution_count": 53,
     "metadata": {},
     "output_type": "execute_result"
    }
   ],
   "source": [
    "y_pred[:10]"
   ]
  },
  {
   "cell_type": "code",
   "execution_count": 55,
   "id": "bda89560",
   "metadata": {},
   "outputs": [],
   "source": [
    "from sklearn.metrics import classification_report, confusion_matrix"
   ]
  },
  {
   "cell_type": "code",
   "execution_count": 56,
   "id": "ff22e012",
   "metadata": {},
   "outputs": [
    {
     "name": "stdout",
     "output_type": "stream",
     "text": [
      "              precision    recall  f1-score   support\n",
      "\n",
      "           0       0.87      0.97      0.91      1595\n",
      "           1       0.75      0.41      0.53       405\n",
      "\n",
      "    accuracy                           0.85      2000\n",
      "   macro avg       0.81      0.69      0.72      2000\n",
      "weighted avg       0.84      0.85      0.84      2000\n",
      "\n"
     ]
    }
   ],
   "source": [
    "print(classification_report(y_test,y_pred))"
   ]
  },
  {
   "cell_type": "code",
   "execution_count": 57,
   "id": "057e1f96",
   "metadata": {},
   "outputs": [
    {
     "data": {
      "text/plain": [
       "Text(69.0, 0.5, 'Truth')"
      ]
     },
     "execution_count": 57,
     "metadata": {},
     "output_type": "execute_result"
    },
    {
     "data": {
      "image/png": "[encoded data removed]",
      "text/plain": [
       "<Figure size 720x504 with 2 Axes>"
      ]
     },
     "metadata": {
      "needs_background": "light"
     },
     "output_type": "display_data"
    }
   ],
   "source": [
    "import seaborn as sn\n",
    "cm = tf.math.confusion_matrix(labels= y_test, predictions= y_pred)\n",
    "\n",
    "\n",
    "plt.figure(figsize = (10,7))\n",
    "sn.heatmap(cm, annot=True,fmt='d')\n",
    "plt.xlabel('predicted')\n",
    "plt.ylabel('Truth')"
   ]
  },
  {
   "cell_type": "code",
   "execution_count": null,
   "id": "b4703036",
   "metadata": {},
   "outputs": [],
   "source": []
  }
 ],
 "metadata": {
  "kernelspec": {
   "display_name": "Python 3",
   "language": "python",
   "name": "python3"
  },
  "language_info": {
   "codemirror_mode": {
    "name": "ipython",
    "version": 3
   },
   "file_extension": ".py",
   "mimetype": "text/x-python",
   "name": "python",
   "nbconvert_exporter": "python",
   "pygments_lexer": "ipython3",
   "version": "3.8.0"
  }
 },
 "nbformat": 4,
 "nbformat_minor": 5
}
